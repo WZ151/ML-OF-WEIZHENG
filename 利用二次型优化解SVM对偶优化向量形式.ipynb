{
  "nbformat": 4,
  "nbformat_minor": 0,
  "metadata": {
    "colab": {
      "name": "利用二次型优化解SVM对偶优化向量形式",
      "provenance": [],
      "collapsed_sections": [],
      "authorship_tag": "ABX9TyOWQp+JhVgtKc8mx9O4S6mi",
      "include_colab_link": true
    },
    "kernelspec": {
      "name": "python3",
      "display_name": "Python 3"
    }
  },
  "cells": [
    {
      "cell_type": "markdown",
      "metadata": {
        "id": "view-in-github",
        "colab_type": "text"
      },
      "source": [
        "<a href=\"https://colab.research.google.com/github/WZ151/ML-OF-WEIZHENG/blob/master/%E5%88%A9%E7%94%A8%E4%BA%8C%E6%AC%A1%E5%9E%8B%E4%BC%98%E5%8C%96%E8%A7%A3SVM%E5%AF%B9%E5%81%B6%E4%BC%98%E5%8C%96%E5%90%91%E9%87%8F%E5%BD%A2%E5%BC%8F.ipynb\" target=\"_parent\"><img src=\"https://colab.research.google.com/assets/colab-badge.svg\" alt=\"Open In Colab\"/></a>"
      ]
    },
    {
      "cell_type": "code",
      "metadata": {
        "id": "KeQzPKONnoSp"
      },
      "source": [
        "from sklearn.datasets import load_breast_cancer\n",
        "import pandas as pd\n",
        "import numpy as np\n",
        "import cvxopt\n",
        "from cvxopt import matrix\n",
        "from sklearn.model_selection import train_test_split\n",
        "from sklearn.metrics import accuracy_score \n",
        "data = load_breast_cancer()##将数据集赋值给iris变量\n",
        "#化为-1，1项\n",
        "data.target[data.target==0] = -1"
      ],
      "execution_count": 205,
      "outputs": []
    },
    {
      "cell_type": "markdown",
      "metadata": {
        "id": "yjc5UWnfyv0y"
      },
      "source": [
        "模型"
      ]
    },
    {
      "cell_type": "code",
      "metadata": {
        "id": "cacDdFbKZcmL"
      },
      "source": [
        "class svmClass:\n",
        "  def __init__(self,c):\n",
        "    self.c=c\n",
        "  def fill(self,x,y):\n",
        "    self.X=np.array(x)\n",
        "    self.Y=np.array(y)\n",
        "    self.m = self.X.shape[0]\n",
        "    self.n = self.X.shape[1]\n",
        "  def train(self):\n",
        "    m = self.X.shape[0]\n",
        "    n = self.X.shape[1]\n",
        "    #P\n",
        "    P = np.multiply(self.Y @ self.Y.T , self.X @ self.X.T)\n",
        "    #q\n",
        "    q = np.ones((m,1))*-1\n",
        "    #A\n",
        "    A = self.Y.reshape((1,m))\n",
        "    #b\n",
        "    b = np.zeros((1,1))\n",
        "    #G\n",
        "    tmp1 = np.diag(np.ones(m))\n",
        "    tmp2 = np.diag(np.ones(m)*(-1))\n",
        "    G = np.vstack((tmp1,tmp2))\n",
        "    #h\n",
        "    tmp3 = np.ones(m)*(self.c)\n",
        "    tmp4 = np.zeros(m)\n",
        "    h = np.mat(np.hstack((tmp3,tmp4))).T\n",
        "    P = matrix(P)\n",
        "    q = matrix(q)\n",
        "    G = matrix(G.astype('float'))\n",
        "    h = matrix(h)\n",
        "    A = matrix(A.astype('float'))\n",
        "    b = matrix(b)\n",
        "    sv = cvxopt.solvers.qp(P,q,G,h,A,b)\n",
        "    w = np.zeros((n))\n",
        "    for i in range(m):\n",
        "      w = w + sv['x'][i]*self.Y[i]*self.X[i]\n",
        "    self.w = w.reshape((n,1))\n",
        "    alpha = np.array(sv['x'])\n",
        "    TRUE = np.ones((1,n))\n",
        "    TRUE = TRUE==1\n",
        "    index = np.array(alpha>0.5).reshape((m,1))\n",
        "    i_X = index @ TRUE\n",
        "    tmp6 = self.X[i_X]\n",
        "    num_of_s = len(tmp6)/n\n",
        "    b = self.Y[alpha>0.5].T - tmp6.reshape((int(num_of_s),n)) @ w\n",
        "    self.b = np.mean(b)\n",
        "  def predict(self,x):\n",
        "    b = np.ones((len(x),1))*self.b\n",
        "    result = b + x @ self.w\n",
        "    result[result>0] = 1\n",
        "    result[result<0] = -1\n",
        "    return result"
      ],
      "execution_count": 213,
      "outputs": []
    },
    {
      "cell_type": "markdown",
      "metadata": {
        "id": "8st_jVSzytaf"
      },
      "source": [
        "参数准备"
      ]
    },
    {
      "cell_type": "code",
      "metadata": {
        "id": "4cxmrrq5lgXf"
      },
      "source": [
        "#设置参数\n",
        "c = 1\n",
        "Y = np.mat(data.target).T\n",
        "X = data.data\n",
        "train_X,test_X,train_y,test_y = train_test_split(X,Y,test_size=0.3,random_state=5)"
      ],
      "execution_count": 209,
      "outputs": []
    },
    {
      "cell_type": "code",
      "metadata": {
        "id": "yNqw2iNAtbdd",
        "outputId": "eefa38f6-8638-4c3f-a86f-3fa5da177cd4",
        "colab": {
          "base_uri": "https://localhost:8080/"
        }
      },
      "source": [
        "#继承类\n",
        "model = svmClass(c)\n",
        "#添加\n",
        "model.fill(train_X,train_y)\n",
        "#训练\n",
        "model.train()\n",
        "#预测并比较准确率\n",
        "print(\"#\"*30,\"accuracy_score\",\"#\"*30)\n",
        "accuracy_score(model.predict(test_X),test_y)"
      ],
      "execution_count": 214,
      "outputs": [
        {
          "output_type": "stream",
          "text": [
            "     pcost       dcost       gap    pres   dres\n",
            " 0: -9.9699e+01 -9.7008e+02  5e+03  3e+00  1e-08\n",
            " 1: -6.5349e+01 -6.2221e+02  1e+03  5e-01  6e-09\n",
            " 2: -4.9691e+01 -3.2586e+02  5e+02  2e-01  4e-09\n",
            " 3: -3.9528e+01 -1.5149e+02  2e+02  7e-02  3e-09\n",
            " 4: -3.5946e+01 -8.3584e+01  8e+01  2e-02  3e-09\n",
            " 5: -3.6435e+01 -5.4455e+01  3e+01  8e-03  3e-09\n",
            " 6: -3.6973e+01 -4.5732e+01  1e+01  3e-03  3e-09\n",
            " 7: -3.7483e+01 -4.0983e+01  4e+00  2e-04  3e-09\n",
            " 8: -3.7770e+01 -4.0003e+01  2e+00  1e-04  3e-09\n",
            " 9: -3.7828e+01 -3.9957e+01  2e+00  9e-05  3e-09\n",
            "10: -3.8239e+01 -3.9254e+01  1e+00  3e-05  3e-09\n",
            "11: -3.8332e+01 -3.9071e+01  8e-01  1e-05  3e-09\n",
            "12: -3.8609e+01 -3.8689e+01  8e-02  7e-07  3e-09\n",
            "13: -3.8641e+01 -3.8644e+01  3e-03  3e-08  3e-09\n",
            "14: -3.8642e+01 -3.8643e+01  3e-04  2e-09  4e-09\n",
            "15: -3.8643e+01 -3.8643e+01  3e-06  2e-11  3e-09\n",
            "Optimal solution found.\n",
            "############################## accuracy_score ##############################\n"
          ],
          "name": "stdout"
        },
        {
          "output_type": "execute_result",
          "data": {
            "text/plain": [
              "0.9824561403508771"
            ]
          },
          "metadata": {
            "tags": []
          },
          "execution_count": 214
        }
      ]
    }
  ]
}