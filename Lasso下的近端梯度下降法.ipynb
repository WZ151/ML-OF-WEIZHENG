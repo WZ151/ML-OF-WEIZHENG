{
  "nbformat": 4,
  "nbformat_minor": 0,
  "metadata": {
    "colab": {
      "name": "Proximal gradient methods for Lasson",
      "provenance": [],
      "collapsed_sections": [],
      "mount_file_id": "1nqiZ0bTqJT5a93l0l-kmylxqF_AET6y3",
      "authorship_tag": "ABX9TyPz1HMOQ0471pPlSL5aL2jU"
    },
    "kernelspec": {
      "name": "python3",
      "display_name": "Python 3"
    }
  },
  "cells": [
    {
      "cell_type": "code",
      "metadata": {
        "id": "jGhNRGWsGvRF"
      },
      "source": [
        "from sklearn.datasets import load_boston\n",
        "from sklearn.model_selection import cross_val_score\n",
        "import pandas as pd\n",
        "import numpy as np\n",
        "import copy\n",
        "import matplotlib.pyplot as plt \n",
        "from random import shuffle\n",
        "import math\n"
      ],
      "execution_count": 192,
      "outputs": []
    },
    {
      "cell_type": "markdown",
      "metadata": {
        "id": "bjWXFqipHzBs"
      },
      "source": [
        "导入数据"
      ]
    },
    {
      "cell_type": "code",
      "metadata": {
        "id": "gBIyV7bbHxSM"
      },
      "source": [
        "boston = load_boston()\n",
        "data_var=np.array(boston.data)\n",
        "data_target=np.array(boston.target)\n",
        "y=data_target.reshape(len(data_target),1)\n",
        "x=data_var"
      ],
      "execution_count": 193,
      "outputs": []
    },
    {
      "cell_type": "markdown",
      "metadata": {
        "id": "H4PGIog7_f3d"
      },
      "source": [
        "查看数据完整性"
      ]
    },
    {
      "cell_type": "code",
      "metadata": {
        "id": "5zENgGWr9okQ",
        "outputId": "e8bba56a-6261-40b8-a641-715a45c2739a",
        "colab": {
          "base_uri": "https://localhost:8080/",
          "height": 284
        }
      },
      "source": [
        "pd.DataFrame(data_var).describe()"
      ],
      "execution_count": 196,
      "outputs": [
        {
          "output_type": "execute_result",
          "data": {
            "text/html": [
              "<div>\n",
              "<style scoped>\n",
              "    .dataframe tbody tr th:only-of-type {\n",
              "        vertical-align: middle;\n",
              "    }\n",
              "\n",
              "    .dataframe tbody tr th {\n",
              "        vertical-align: top;\n",
              "    }\n",
              "\n",
              "    .dataframe thead th {\n",
              "        text-align: right;\n",
              "    }\n",
              "</style>\n",
              "<table border=\"1\" class=\"dataframe\">\n",
              "  <thead>\n",
              "    <tr style=\"text-align: right;\">\n",
              "      <th></th>\n",
              "      <th>0</th>\n",
              "      <th>1</th>\n",
              "      <th>2</th>\n",
              "      <th>3</th>\n",
              "      <th>4</th>\n",
              "      <th>5</th>\n",
              "      <th>6</th>\n",
              "      <th>7</th>\n",
              "      <th>8</th>\n",
              "      <th>9</th>\n",
              "      <th>10</th>\n",
              "      <th>11</th>\n",
              "      <th>12</th>\n",
              "    </tr>\n",
              "  </thead>\n",
              "  <tbody>\n",
              "    <tr>\n",
              "      <th>count</th>\n",
              "      <td>506.000000</td>\n",
              "      <td>506.000000</td>\n",
              "      <td>506.000000</td>\n",
              "      <td>506.000000</td>\n",
              "      <td>506.000000</td>\n",
              "      <td>506.000000</td>\n",
              "      <td>506.000000</td>\n",
              "      <td>506.000000</td>\n",
              "      <td>506.000000</td>\n",
              "      <td>506.000000</td>\n",
              "      <td>506.000000</td>\n",
              "      <td>506.000000</td>\n",
              "      <td>506.000000</td>\n",
              "    </tr>\n",
              "    <tr>\n",
              "      <th>mean</th>\n",
              "      <td>3.613524</td>\n",
              "      <td>11.363636</td>\n",
              "      <td>11.136779</td>\n",
              "      <td>0.069170</td>\n",
              "      <td>0.554695</td>\n",
              "      <td>6.284634</td>\n",
              "      <td>68.574901</td>\n",
              "      <td>3.795043</td>\n",
              "      <td>9.549407</td>\n",
              "      <td>408.237154</td>\n",
              "      <td>18.455534</td>\n",
              "      <td>356.674032</td>\n",
              "      <td>12.653063</td>\n",
              "    </tr>\n",
              "    <tr>\n",
              "      <th>std</th>\n",
              "      <td>8.601545</td>\n",
              "      <td>23.322453</td>\n",
              "      <td>6.860353</td>\n",
              "      <td>0.253994</td>\n",
              "      <td>0.115878</td>\n",
              "      <td>0.702617</td>\n",
              "      <td>28.148861</td>\n",
              "      <td>2.105710</td>\n",
              "      <td>8.707259</td>\n",
              "      <td>168.537116</td>\n",
              "      <td>2.164946</td>\n",
              "      <td>91.294864</td>\n",
              "      <td>7.141062</td>\n",
              "    </tr>\n",
              "    <tr>\n",
              "      <th>min</th>\n",
              "      <td>0.006320</td>\n",
              "      <td>0.000000</td>\n",
              "      <td>0.460000</td>\n",
              "      <td>0.000000</td>\n",
              "      <td>0.385000</td>\n",
              "      <td>3.561000</td>\n",
              "      <td>2.900000</td>\n",
              "      <td>1.129600</td>\n",
              "      <td>1.000000</td>\n",
              "      <td>187.000000</td>\n",
              "      <td>12.600000</td>\n",
              "      <td>0.320000</td>\n",
              "      <td>1.730000</td>\n",
              "    </tr>\n",
              "    <tr>\n",
              "      <th>25%</th>\n",
              "      <td>0.082045</td>\n",
              "      <td>0.000000</td>\n",
              "      <td>5.190000</td>\n",
              "      <td>0.000000</td>\n",
              "      <td>0.449000</td>\n",
              "      <td>5.885500</td>\n",
              "      <td>45.025000</td>\n",
              "      <td>2.100175</td>\n",
              "      <td>4.000000</td>\n",
              "      <td>279.000000</td>\n",
              "      <td>17.400000</td>\n",
              "      <td>375.377500</td>\n",
              "      <td>6.950000</td>\n",
              "    </tr>\n",
              "    <tr>\n",
              "      <th>50%</th>\n",
              "      <td>0.256510</td>\n",
              "      <td>0.000000</td>\n",
              "      <td>9.690000</td>\n",
              "      <td>0.000000</td>\n",
              "      <td>0.538000</td>\n",
              "      <td>6.208500</td>\n",
              "      <td>77.500000</td>\n",
              "      <td>3.207450</td>\n",
              "      <td>5.000000</td>\n",
              "      <td>330.000000</td>\n",
              "      <td>19.050000</td>\n",
              "      <td>391.440000</td>\n",
              "      <td>11.360000</td>\n",
              "    </tr>\n",
              "    <tr>\n",
              "      <th>75%</th>\n",
              "      <td>3.677083</td>\n",
              "      <td>12.500000</td>\n",
              "      <td>18.100000</td>\n",
              "      <td>0.000000</td>\n",
              "      <td>0.624000</td>\n",
              "      <td>6.623500</td>\n",
              "      <td>94.075000</td>\n",
              "      <td>5.188425</td>\n",
              "      <td>24.000000</td>\n",
              "      <td>666.000000</td>\n",
              "      <td>20.200000</td>\n",
              "      <td>396.225000</td>\n",
              "      <td>16.955000</td>\n",
              "    </tr>\n",
              "    <tr>\n",
              "      <th>max</th>\n",
              "      <td>88.976200</td>\n",
              "      <td>100.000000</td>\n",
              "      <td>27.740000</td>\n",
              "      <td>1.000000</td>\n",
              "      <td>0.871000</td>\n",
              "      <td>8.780000</td>\n",
              "      <td>100.000000</td>\n",
              "      <td>12.126500</td>\n",
              "      <td>24.000000</td>\n",
              "      <td>711.000000</td>\n",
              "      <td>22.000000</td>\n",
              "      <td>396.900000</td>\n",
              "      <td>37.970000</td>\n",
              "    </tr>\n",
              "  </tbody>\n",
              "</table>\n",
              "</div>"
            ],
            "text/plain": [
              "               0           1           2   ...          10          11          12\n",
              "count  506.000000  506.000000  506.000000  ...  506.000000  506.000000  506.000000\n",
              "mean     3.613524   11.363636   11.136779  ...   18.455534  356.674032   12.653063\n",
              "std      8.601545   23.322453    6.860353  ...    2.164946   91.294864    7.141062\n",
              "min      0.006320    0.000000    0.460000  ...   12.600000    0.320000    1.730000\n",
              "25%      0.082045    0.000000    5.190000  ...   17.400000  375.377500    6.950000\n",
              "50%      0.256510    0.000000    9.690000  ...   19.050000  391.440000   11.360000\n",
              "75%      3.677083   12.500000   18.100000  ...   20.200000  396.225000   16.955000\n",
              "max     88.976200  100.000000   27.740000  ...   22.000000  396.900000   37.970000\n",
              "\n",
              "[8 rows x 13 columns]"
            ]
          },
          "metadata": {
            "tags": []
          },
          "execution_count": 196
        }
      ]
    },
    {
      "cell_type": "markdown",
      "metadata": {
        "id": "KDCsCoQ3hhrk"
      },
      "source": [
        "取合适的μ值是关键，之前做了很多次取μ为1都是做出来都不收敛，经过查资料后发现μ取max_eig的倒数时效果比较好。\n",
        "\n",
        "▽f（βt）在这里是关于X的导数。（其他地方不一定）\n",
        "\n"
      ]
    },
    {
      "cell_type": "code",
      "metadata": {
        "id": "Wo4iy5Xil4c6",
        "outputId": "740e81c3-79a9-419a-f330-b4ab305b0766",
        "colab": {
          "base_uri": "https://localhost:8080/",
          "height": 34
        }
      },
      "source": [
        "eig, _ = np.linalg.eig(x.T @ x)\n",
        "max_eig = np.real(eig[0])\n",
        "print(max_eig)\n",
        "t = 1/max_eig\n"
      ],
      "execution_count": 4,
      "outputs": [
        {
          "output_type": "stream",
          "text": [
            "158386795.652915\n"
          ],
          "name": "stdout"
        }
      ]
    },
    {
      "cell_type": "markdown",
      "metadata": {
        "id": "-e8RFpHWiS77"
      },
      "source": [
        "构建迭代函数\n"
      ]
    },
    {
      "cell_type": "code",
      "metadata": {
        "id": "HaOONqaEiWZ8"
      },
      "source": [
        "def pg(lambd,beta):\n",
        "  betafinal=copy.deepcopy(beta.reshape(len(beta),1))\n",
        "  test= t * 2 * (x.T @ y - x.T @ x @ betafinal )\n",
        "  beta_hat=betafinal+test\n",
        "  beta_hat=beta_hat.reshape(13)\n",
        "  tmp1=1-lambd*t/abs(beta_hat)\n",
        "  for j in range(len(beta_hat)):\n",
        "    if (tmp1>0)[j]:\n",
        "      betafinal[j]=tmp1[j]*beta_hat[j]\n",
        "    else:\n",
        "      betafinal[j]=0\n",
        "  return betafinal.flatten()"
      ],
      "execution_count": 5,
      "outputs": []
    },
    {
      "cell_type": "markdown",
      "metadata": {
        "id": "CrvIAWe2j0CC"
      },
      "source": [
        "初始β取了随机生成，没有用ones"
      ]
    },
    {
      "cell_type": "code",
      "metadata": {
        "id": "5CzSQVcweQNi"
      },
      "source": [
        "lambds=[]\n",
        "for i in range(61):\n",
        "  lambds.append(math.pow(10,-3-0.1*i))"
      ],
      "execution_count": 9,
      "outputs": []
    },
    {
      "cell_type": "markdown",
      "metadata": {
        "id": "_Xnu7aZU-yON"
      },
      "source": [
        "五折交叉验证并画图"
      ]
    },
    {
      "cell_type": "code",
      "metadata": {
        "id": "blbzYJNJg28r"
      },
      "source": [
        "ddddd=[]\n",
        "lambd_result=[]\n",
        "i=0\n",
        "for lambd in lambds:\n",
        "  \n",
        "\n",
        "  shuffle(x)\n",
        "  result=[]\n",
        "  #五折交叉验证\n",
        "  for i in range(5):\n",
        "    i+=1\n",
        "    err=1\n",
        "    \n",
        "    beta=np.random.random((13,1))\n",
        "    tmp=[]\n",
        "    \n",
        "    train=copy.deepcopy(x)  \n",
        "    del_item=[]\n",
        "    for m in range(101):\n",
        "      del_item.append(m+101*i)\n",
        "    train_y=np.delete(y,del_item,axis=0)\n",
        "    train=np.delete(train,del_item,axis=0)\n",
        "    print(len(train))\n",
        "    while err>1e-5:\n",
        "        # if i ==1:\n",
        "        #   print(err)\n",
        "        tmp=pg(train,train_y,lambd,beta)\n",
        "        #利用绝对收敛标准 \n",
        "        err = np.sum(np.square(tmp.flatten() - beta.flatten()))\n",
        "        beta = copy.deepcopy(tmp)\n",
        "\n",
        "    result.append(np.sqrt(np.sum(np.square(train[i*101:(i+1)*101] @ beta - y[i*101:(i+1)*101] ))))\n",
        "  lambd_result.append(np.mean(result))"
      ],
      "execution_count": null,
      "outputs": []
    },
    {
      "cell_type": "code",
      "metadata": {
        "id": "ktyUMCL9hSj6",
        "outputId": "cd2f1d2a-439b-40f0-a7e7-27ac7a5cda89",
        "colab": {
          "base_uri": "https://localhost:8080/",
          "height": 265
        }
      },
      "source": [
        "plt.plot(lambd_result)\n",
        "plt.grid()"
      ],
      "execution_count": 176,
      "outputs": [
        {
          "output_type": "display_data",
          "data": {
            "image/png": "[encoded data removed]",
            "text/plain": [
              "<Figure size 432x288 with 1 Axes>"
            ]
          },
          "metadata": {
            "tags": [],
            "needs_background": "light"
          }
        }
      ]
    },
    {
      "cell_type": "markdown",
      "metadata": {
        "id": "At-3Pyk5-34S"
      },
      "source": [
        "取最优的λ，用所有数据进行训练，并查看各个β值"
      ]
    },
    {
      "cell_type": "code",
      "metadata": {
        "id": "JqzbavhJ25E3"
      },
      "source": [
        "lambd=lambds[18]\n",
        "beta=np.random.random((13,1))\n",
        "err=1\n",
        "tmp=[]\n",
        "while err>1e-5:\n",
        "    print(err)\n",
        "    tmp=pg(lambd,beta)\n",
        "    #利用绝对收敛标准 \n",
        "    err = np.sum(np.square(tmp.flatten() - beta.flatten()))\n",
        "    beta = copy.deepcopy(tmp)"
      ],
      "execution_count": null,
      "outputs": []
    },
    {
      "cell_type": "markdown",
      "metadata": {
        "id": "0YKeWt2S_J8g"
      },
      "source": [
        "查看β值并画图"
      ]
    },
    {
      "cell_type": "code",
      "metadata": {
        "id": "C10AAtQN3qhL",
        "outputId": "9b07a13c-89ae-4f32-d4c1-a13a8e3f1ca0",
        "colab": {
          "base_uri": "https://localhost:8080/",
          "height": 84
        }
      },
      "source": [
        "beta"
      ],
      "execution_count": 7,
      "outputs": [
        {
          "output_type": "execute_result",
          "data": {
            "text/plain": [
              "array([-9.14126252e-02,  5.12141011e-02, -6.63159925e-05,  6.66066478e-01,\n",
              "        1.42164019e-01,  5.55493091e+00, -1.32736585e-03, -8.61216755e-01,\n",
              "        1.77638952e-01, -1.17744233e-02, -3.55861845e-01,  1.44257953e-02,\n",
              "       -4.57969653e-01])"
            ]
          },
          "metadata": {
            "tags": []
          },
          "execution_count": 7
        }
      ]
    },
    {
      "cell_type": "markdown",
      "metadata": {
        "id": "TI_9CXIC_OTG"
      },
      "source": [
        "x轴上越高代表影响正面因素越大，反之亦然"
      ]
    },
    {
      "cell_type": "code",
      "metadata": {
        "id": "0FbaK8n02qqC",
        "outputId": "06bed346-a05a-4a59-8a78-eb109602410f",
        "colab": {
          "base_uri": "https://localhost:8080/",
          "height": 320
        }
      },
      "source": [
        "plt.figure(figsize=(10,5))\n",
        "plt.bar(range(len(beta)),beta)\n",
        "plt.grid()"
      ],
      "execution_count": 8,
      "outputs": [
        {
          "output_type": "display_data",
          "data": {
            "image/png": "[encoded data removed]",
            "text/plain": [
              "<Figure size 720x360 with 1 Axes>"
            ]
          },
          "metadata": {
            "tags": [],
            "needs_background": "light"
          }
        }
      ]
    }
  ]
}