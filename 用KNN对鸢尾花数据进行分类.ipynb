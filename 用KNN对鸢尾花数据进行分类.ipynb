{
  "nbformat": 4,
  "nbformat_minor": 0,
  "metadata": {
    "colab": {
      "name": "用KNN对鸢尾花数据进行分类",
      "provenance": [],
      "collapsed_sections": [],
      "mount_file_id": "1rdmVJpg2nwUYGJsarAvXVU5086HX1ZdQ",
      "authorship_tag": "ABX9TyMEanvDonkMmi9hQCA+Cwns",
      "include_colab_link": true
    },
    "kernelspec": {
      "name": "python3",
      "display_name": "Python 3"
    }
  },
  "cells": [
    {
      "cell_type": "markdown",
      "metadata": {
        "id": "view-in-github",
        "colab_type": "text"
      },
      "source": [
        "<a href=\"https://colab.research.google.com/github/WZ151/weik151/blob/master/%E7%94%A8KNN%E5%AF%B9%E9%B8%A2%E5%B0%BE%E8%8A%B1%E6%95%B0%E6%8D%AE%E8%BF%9B%E8%A1%8C%E5%88%86%E7%B1%BB.ipynb\" target=\"_parent\"><img src=\"https://colab.research.google.com/assets/colab-badge.svg\" alt=\"Open In Colab\"/></a>"
      ]
    },
    {
      "cell_type": "code",
      "metadata": {
        "id": "JPiribXYfEQG",
        "colab_type": "code",
        "colab": {}
      },
      "source": [
        "#-*- coding: utf-8 -*-\n",
        "from sklearn import datasets\n",
        "import pandas as pd\n",
        "import numpy as np\n",
        "import random\n",
        "from math import sqrt\n",
        "from sklearn.metrics import accuracy_score\n",
        "import matplotlib.pyplot as plt"
      ],
      "execution_count": 441,
      "outputs": []
    },
    {
      "cell_type": "markdown",
      "metadata": {
        "id": "XED2wcFMs1wN",
        "colab_type": "text"
      },
      "source": [
        "# 读取数据"
      ]
    },
    {
      "cell_type": "markdown",
      "metadata": {
        "id": "fcuoN6gMxh_0",
        "colab_type": "text"
      },
      "source": [
        "## 读取x\n"
      ]
    },
    {
      "cell_type": "code",
      "metadata": {
        "id": "_GNmoUxkgXT_",
        "colab_type": "code",
        "colab": {}
      },
      "source": [
        "df=pd.DataFrame(datasets.load_iris().data,columns=[\"A\",\"B\",\"C\",\"D\"])"
      ],
      "execution_count": 442,
      "outputs": []
    },
    {
      "cell_type": "markdown",
      "metadata": {
        "id": "YygsJjbexn2z",
        "colab_type": "text"
      },
      "source": [
        "## 读取y\n"
      ]
    },
    {
      "cell_type": "code",
      "metadata": {
        "id": "bGcyszSMhKcs",
        "colab_type": "code",
        "colab": {}
      },
      "source": [
        "df[\"Y\"]=datasets.load_iris().target"
      ],
      "execution_count": 443,
      "outputs": []
    },
    {
      "cell_type": "markdown",
      "metadata": {
        "id": "YwHk9pO0s8_D",
        "colab_type": "text"
      },
      "source": [
        "#相关函数 "
      ]
    },
    {
      "cell_type": "markdown",
      "metadata": {
        "id": "EEnGJQs5qa0l",
        "colab_type": "text"
      },
      "source": [
        "函数：生成指定长度内指定数量的不重复的整数随机数，length 必须大于 num"
      ]
    },
    {
      "cell_type": "code",
      "metadata": {
        "id": "77Fip7-RhSN3",
        "colab_type": "code",
        "colab": {}
      },
      "source": [
        "def lenth_rand(length,num):\n",
        "  assert length>=num,\"length 必须大于 num\"\n",
        "  result=[]\n",
        "  i=0\n",
        "  while i <= num-1:\n",
        "    tmp=random.randint(0,length-1)\n",
        "    if tmp not in result:\n",
        "      result.append(tmp)\n",
        "      i+=1\n",
        "  \n",
        "  return result"
      ],
      "execution_count": 444,
      "outputs": []
    },
    {
      "cell_type": "markdown",
      "metadata": {
        "id": "gOPpWtpltF1v",
        "colab_type": "text"
      },
      "source": [
        "# 相关类\n"
      ]
    },
    {
      "cell_type": "markdown",
      "metadata": {
        "id": "Rc1M8ddCuTSg",
        "colab_type": "text"
      },
      "source": [
        "1.对样本分组 \n",
        "\n",
        "2.建立一个类，输入的是k与（xy或者x），前者是训练集，后者是预测集或者测试集\n",
        "输入是dataframe格式\n",
        "\n",
        "3.算出Xi和其他点的距离\n",
        "\n",
        "4.对距离进行排序\n",
        "\n",
        "5.选择K个最相近的点\n",
        "\n",
        "6.得到总数和各个类型所占的比例\n"
      ]
    },
    {
      "cell_type": "code",
      "metadata": {
        "id": "ddnV0jkRtIPV",
        "colab_type": "code",
        "colab": {}
      },
      "source": [
        "class KnnClass:\n",
        "    def __init__(self,k):\n",
        "        self.k=k\n",
        "\n",
        "    def fill(self,x,y):\n",
        "        self._x=np.array(x)\n",
        "        self._y=np.array(y)\n",
        "        return self\n",
        "    \n",
        "    def predict(self,x):\n",
        "\n",
        "      return [self._predict(_x) for _x in np.array(x)]\n",
        "\n",
        "    # def predict(self,x):\n",
        "    #   return [self._predict(np.array(x)[10])]\n",
        "\n",
        "    #针对每一个的x数组的预测哈\n",
        "    def _predict(self,_x):\n",
        "      #算距离\n",
        "\n",
        "      distincts=[sqrt(  np.sum( (_x-tmp_x)**2 )  ) for tmp_x in np.array(self._x)]\n",
        "      #将所属类别加上\n",
        "      df_p=pd.DataFrame(distincts,columns=[\"dis\"])\n",
        "      df_p[\"sort\"]=np.array(self._y)\n",
        "      #对距离进行排序\n",
        "      \n",
        "      df_p=df_p.sort_values(by=\"dis\")\n",
        "\n",
        "      self.tmp=df_p\n",
        "      #得到预测的分类值\n",
        "      \n",
        "      df_p_1=df_p.reset_index(drop=True)\n",
        "      df_p_1=df_p_1.loc[0:self.k].sort.value_counts().index[0]\n",
        "      return df_p_1\n",
        "      "
      ],
      "execution_count": 445,
      "outputs": []
    },
    {
      "cell_type": "markdown",
      "metadata": {
        "id": "GeovNOT8DlwL",
        "colab_type": "text"
      },
      "source": [
        "# 划分训练集和测试集"
      ]
    },
    {
      "cell_type": "code",
      "metadata": {
        "id": "tNazKGljkfKa",
        "colab_type": "code",
        "colab": {}
      },
      "source": [
        "train_index=lenth_rand(150,105)\n",
        "test_index=set(range(150)).difference(set(train_index))\n",
        "train_x=df.loc[train_index,[\"A\",\"B\",\"C\",\"D\"]]\n",
        "train_y=df.loc[train_index,[\"Y\"]]\n",
        "test_x=df.loc[test_index,[\"A\",\"B\",\"C\",\"D\"]]\n",
        "test_y=df.loc[test_index,[\"Y\"]]"
      ],
      "execution_count": 446,
      "outputs": []
    },
    {
      "cell_type": "markdown",
      "metadata": {
        "id": "T-Rx72zrrEXm",
        "colab_type": "text"
      },
      "source": [
        "# K从2到10，去寻找最优的K"
      ]
    },
    {
      "cell_type": "code",
      "metadata": {
        "id": "NJ6R-gcvmJCD",
        "colab_type": "code",
        "colab": {}
      },
      "source": [
        "scatter_x=[]\n",
        "scatter_y=[]\n",
        "for i in range(1,11):\n",
        "\n",
        "  tmp=KnnClass(i)\n",
        "  tmp.fill(train_x,train_y)\n",
        "  a=tmp.predict(test_x)\n",
        "  scatter_x.append(i)\n",
        "  scatter_y.append(accuracy_score(a,test_y))\n"
      ],
      "execution_count": 447,
      "outputs": []
    },
    {
      "cell_type": "code",
      "metadata": {
        "id": "C3i_ep7UozoH",
        "colab_type": "code",
        "colab": {
          "base_uri": "https://localhost:8080/",
          "height": 295
        },
        "outputId": "831ab542-a842-427b-d1cf-5bd24daecb39"
      },
      "source": [
        "plt.plot(scatter_x,scatter_y)\n",
        "plt.title(\"accuracy_score chang with K\")\n",
        "plt.xlabel(\"K\")\n",
        "plt.ylabel(\"accuracy_score\")\n",
        "plt.show()"
      ],
      "execution_count": 448,
      "outputs": [
        {
          "output_type": "display_data",
          "data": {
            "image/png": "[encoded data removed]",
            "text/plain": [
              "<Figure size 432x288 with 1 Axes>"
            ]
          },
          "metadata": {
            "tags": [],
            "needs_background": "light"
          }
        }
      ]
    }
  ]
}